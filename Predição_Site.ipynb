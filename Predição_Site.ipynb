{
  "cells": [
    {
      "cell_type": "markdown",
      "metadata": {
        "id": "view-in-github",
        "colab_type": "text"
      },
      "source": [
        "<a href=\"https://colab.research.google.com/github/xqunt/Site_Codigos_Analise/blob/master/Predi%C3%A7%C3%A3o_Site.ipynb\" target=\"_parent\"><img src=\"https://colab.research.google.com/assets/colab-badge.svg\" alt=\"Open In Colab\"/></a>"
      ]
    },
    {
      "cell_type": "code",
      "execution_count": null,
      "metadata": {
        "id": "oA2qeV8HBk-Z",
        "colab": {
          "base_uri": "https://localhost:8080/"
        },
        "outputId": "bc1357e2-01c5-4ad7-8720-899d339ea39d"
      },
      "outputs": [
        {
          "output_type": "stream",
          "name": "stdout",
          "text": [
            "Looking in indexes: https://pypi.org/simple, https://us-python.pkg.dev/colab-wheels/public/simple/\n",
            "Requirement already satisfied: pandas-datareader in /usr/local/lib/python3.8/dist-packages (0.9.0)\n",
            "Requirement already satisfied: lxml in /usr/local/lib/python3.8/dist-packages (from pandas-datareader) (4.9.2)\n",
            "Requirement already satisfied: pandas>=0.23 in /usr/local/lib/python3.8/dist-packages (from pandas-datareader) (1.3.5)\n",
            "Requirement already satisfied: requests>=2.19.0 in /usr/local/lib/python3.8/dist-packages (from pandas-datareader) (2.25.1)\n",
            "Requirement already satisfied: numpy>=1.17.3 in /usr/local/lib/python3.8/dist-packages (from pandas>=0.23->pandas-datareader) (1.21.6)\n",
            "Requirement already satisfied: pytz>=2017.3 in /usr/local/lib/python3.8/dist-packages (from pandas>=0.23->pandas-datareader) (2022.7.1)\n",
            "Requirement already satisfied: python-dateutil>=2.7.3 in /usr/local/lib/python3.8/dist-packages (from pandas>=0.23->pandas-datareader) (2.8.2)\n",
            "Requirement already satisfied: urllib3<1.27,>=1.21.1 in /usr/local/lib/python3.8/dist-packages (from requests>=2.19.0->pandas-datareader) (1.24.3)\n",
            "Requirement already satisfied: idna<3,>=2.5 in /usr/local/lib/python3.8/dist-packages (from requests>=2.19.0->pandas-datareader) (2.10)\n",
            "Requirement already satisfied: chardet<5,>=3.0.2 in /usr/local/lib/python3.8/dist-packages (from requests>=2.19.0->pandas-datareader) (4.0.0)\n",
            "Requirement already satisfied: certifi>=2017.4.17 in /usr/local/lib/python3.8/dist-packages (from requests>=2.19.0->pandas-datareader) (2022.12.7)\n",
            "Requirement already satisfied: six>=1.5 in /usr/local/lib/python3.8/dist-packages (from python-dateutil>=2.7.3->pandas>=0.23->pandas-datareader) (1.15.0)\n",
            "Looking in indexes: https://pypi.org/simple, https://us-python.pkg.dev/colab-wheels/public/simple/\n",
            "Requirement already satisfied: pandas-datareader in /usr/local/lib/python3.8/dist-packages (0.9.0)\n",
            "Collecting pandas-datareader\n",
            "  Downloading pandas_datareader-0.10.0-py3-none-any.whl (109 kB)\n",
            "\u001b[2K     \u001b[90m━━━━━━━━━━━━━━━━━━━━━━━━━━━━━━━━━━━━━━━\u001b[0m \u001b[32m109.5/109.5 KB\u001b[0m \u001b[31m5.2 MB/s\u001b[0m eta \u001b[36m0:00:00\u001b[0m\n",
            "\u001b[?25hRequirement already satisfied: pandas>=0.23 in /usr/local/lib/python3.8/dist-packages (from pandas-datareader) (1.3.5)\n",
            "Requirement already satisfied: requests>=2.19.0 in /usr/local/lib/python3.8/dist-packages (from pandas-datareader) (2.25.1)\n",
            "Requirement already satisfied: lxml in /usr/local/lib/python3.8/dist-packages (from pandas-datareader) (4.9.2)\n",
            "Requirement already satisfied: numpy>=1.17.3 in /usr/local/lib/python3.8/dist-packages (from pandas>=0.23->pandas-datareader) (1.21.6)\n",
            "Requirement already satisfied: python-dateutil>=2.7.3 in /usr/local/lib/python3.8/dist-packages (from pandas>=0.23->pandas-datareader) (2.8.2)\n",
            "Requirement already satisfied: pytz>=2017.3 in /usr/local/lib/python3.8/dist-packages (from pandas>=0.23->pandas-datareader) (2022.7.1)\n",
            "Requirement already satisfied: chardet<5,>=3.0.2 in /usr/local/lib/python3.8/dist-packages (from requests>=2.19.0->pandas-datareader) (4.0.0)\n",
            "Requirement already satisfied: idna<3,>=2.5 in /usr/local/lib/python3.8/dist-packages (from requests>=2.19.0->pandas-datareader) (2.10)\n",
            "Requirement already satisfied: urllib3<1.27,>=1.21.1 in /usr/local/lib/python3.8/dist-packages (from requests>=2.19.0->pandas-datareader) (1.24.3)\n",
            "Requirement already satisfied: certifi>=2017.4.17 in /usr/local/lib/python3.8/dist-packages (from requests>=2.19.0->pandas-datareader) (2022.12.7)\n",
            "Requirement already satisfied: six>=1.5 in /usr/local/lib/python3.8/dist-packages (from python-dateutil>=2.7.3->pandas>=0.23->pandas-datareader) (1.15.0)\n",
            "Installing collected packages: pandas-datareader\n",
            "  Attempting uninstall: pandas-datareader\n",
            "    Found existing installation: pandas-datareader 0.9.0\n",
            "    Uninstalling pandas-datareader-0.9.0:\n",
            "      Successfully uninstalled pandas-datareader-0.9.0\n",
            "Successfully installed pandas-datareader-0.10.0\n",
            "Looking in indexes: https://pypi.org/simple, https://us-python.pkg.dev/colab-wheels/public/simple/\n",
            "Collecting yfinance\n",
            "  Downloading yfinance-0.2.9-py2.py3-none-any.whl (55 kB)\n",
            "\u001b[2K     \u001b[90m━━━━━━━━━━━━━━━━━━━━━━━━━━━━━━━━━━━━━━━━\u001b[0m \u001b[32m55.9/55.9 KB\u001b[0m \u001b[31m2.3 MB/s\u001b[0m eta \u001b[36m0:00:00\u001b[0m\n",
            "\u001b[?25hRequirement already satisfied: numpy>=1.16.5 in /usr/local/lib/python3.8/dist-packages (from yfinance) (1.21.6)\n",
            "Requirement already satisfied: pytz>=2022.5 in /usr/local/lib/python3.8/dist-packages (from yfinance) (2022.7.1)\n",
            "Collecting beautifulsoup4>=4.11.1\n",
            "  Downloading beautifulsoup4-4.11.2-py3-none-any.whl (129 kB)\n",
            "\u001b[2K     \u001b[90m━━━━━━━━━━━━━━━━━━━━━━━━━━━━━━━━━━━━━━━\u001b[0m \u001b[32m129.4/129.4 KB\u001b[0m \u001b[31m6.9 MB/s\u001b[0m eta \u001b[36m0:00:00\u001b[0m\n",
            "\u001b[?25hRequirement already satisfied: pandas>=1.3.0 in /usr/local/lib/python3.8/dist-packages (from yfinance) (1.3.5)\n",
            "Collecting frozendict>=2.3.4\n",
            "  Downloading frozendict-2.3.4-cp38-cp38-manylinux_2_17_x86_64.manylinux2014_x86_64.whl (110 kB)\n",
            "\u001b[2K     \u001b[90m━━━━━━━━━━━━━━━━━━━━━━━━━━━━━━━━━━━━━━━\u001b[0m \u001b[32m111.0/111.0 KB\u001b[0m \u001b[31m2.1 MB/s\u001b[0m eta \u001b[36m0:00:00\u001b[0m\n",
            "\u001b[?25hCollecting requests>=2.26\n",
            "  Downloading requests-2.28.2-py3-none-any.whl (62 kB)\n",
            "\u001b[2K     \u001b[90m━━━━━━━━━━━━━━━━━━━━━━━━━━━━━━━━━━━━━━━━\u001b[0m \u001b[32m62.8/62.8 KB\u001b[0m \u001b[31m2.8 MB/s\u001b[0m eta \u001b[36m0:00:00\u001b[0m\n",
            "\u001b[?25hRequirement already satisfied: lxml>=4.9.1 in /usr/local/lib/python3.8/dist-packages (from yfinance) (4.9.2)\n",
            "Requirement already satisfied: multitasking>=0.0.7 in /usr/local/lib/python3.8/dist-packages (from yfinance) (0.0.11)\n",
            "Requirement already satisfied: appdirs>=1.4.4 in /usr/local/lib/python3.8/dist-packages (from yfinance) (1.4.4)\n",
            "Collecting html5lib>=1.1\n",
            "  Downloading html5lib-1.1-py2.py3-none-any.whl (112 kB)\n",
            "\u001b[2K     \u001b[90m━━━━━━━━━━━━━━━━━━━━━━━━━━━━━━━━━━━━━━━\u001b[0m \u001b[32m112.2/112.2 KB\u001b[0m \u001b[31m4.9 MB/s\u001b[0m eta \u001b[36m0:00:00\u001b[0m\n",
            "\u001b[?25hCollecting cryptography>=3.3.2\n",
            "  Downloading cryptography-39.0.0-cp36-abi3-manylinux_2_28_x86_64.whl (4.2 MB)\n",
            "\u001b[2K     \u001b[90m━━━━━━━━━━━━━━━━━━━━━━━━━━━━━━━━━━━━━━━━\u001b[0m \u001b[32m4.2/4.2 MB\u001b[0m \u001b[31m26.2 MB/s\u001b[0m eta \u001b[36m0:00:00\u001b[0m\n",
            "\u001b[?25hCollecting soupsieve>1.2\n",
            "  Downloading soupsieve-2.3.2.post1-py3-none-any.whl (37 kB)\n",
            "Requirement already satisfied: cffi>=1.12 in /usr/local/lib/python3.8/dist-packages (from cryptography>=3.3.2->yfinance) (1.15.1)\n",
            "Requirement already satisfied: six>=1.9 in /usr/local/lib/python3.8/dist-packages (from html5lib>=1.1->yfinance) (1.15.0)\n",
            "Requirement already satisfied: webencodings in /usr/local/lib/python3.8/dist-packages (from html5lib>=1.1->yfinance) (0.5.1)\n",
            "Requirement already satisfied: python-dateutil>=2.7.3 in /usr/local/lib/python3.8/dist-packages (from pandas>=1.3.0->yfinance) (2.8.2)\n",
            "Requirement already satisfied: urllib3<1.27,>=1.21.1 in /usr/local/lib/python3.8/dist-packages (from requests>=2.26->yfinance) (1.24.3)\n",
            "Requirement already satisfied: certifi>=2017.4.17 in /usr/local/lib/python3.8/dist-packages (from requests>=2.26->yfinance) (2022.12.7)\n",
            "Requirement already satisfied: idna<4,>=2.5 in /usr/local/lib/python3.8/dist-packages (from requests>=2.26->yfinance) (2.10)\n",
            "Requirement already satisfied: charset-normalizer<4,>=2 in /usr/local/lib/python3.8/dist-packages (from requests>=2.26->yfinance) (2.1.1)\n",
            "Requirement already satisfied: pycparser in /usr/local/lib/python3.8/dist-packages (from cffi>=1.12->cryptography>=3.3.2->yfinance) (2.21)\n",
            "Installing collected packages: soupsieve, requests, html5lib, frozendict, cryptography, beautifulsoup4, yfinance\n",
            "  Attempting uninstall: requests\n",
            "    Found existing installation: requests 2.25.1\n",
            "    Uninstalling requests-2.25.1:\n",
            "      Successfully uninstalled requests-2.25.1\n",
            "  Attempting uninstall: html5lib\n",
            "    Found existing installation: html5lib 1.0.1\n",
            "    Uninstalling html5lib-1.0.1:\n",
            "      Successfully uninstalled html5lib-1.0.1\n",
            "  Attempting uninstall: beautifulsoup4\n",
            "    Found existing installation: beautifulsoup4 4.6.3\n",
            "    Uninstalling beautifulsoup4-4.6.3:\n",
            "      Successfully uninstalled beautifulsoup4-4.6.3\n",
            "Successfully installed beautifulsoup4-4.11.2 cryptography-39.0.0 frozendict-2.3.4 html5lib-1.1 requests-2.28.2 soupsieve-2.3.2.post1 yfinance-0.2.9\n"
          ]
        }
      ],
      "source": [
        "!pip install pandas-datareader\n",
        "!pip install --upgrade pandas-datareader\n",
        "!pip install yfinance"
      ]
    },
    {
      "cell_type": "code",
      "execution_count": null,
      "metadata": {
        "id": "6fMpHWFKBk-b",
        "colab": {
          "base_uri": "https://localhost:8080/"
        },
        "outputId": "8f025fee-9843-4907-9b37-c75014e1f320"
      },
      "outputs": [
        {
          "output_type": "stream",
          "name": "stdout",
          "text": [
            "Looking in indexes: https://pypi.org/simple, https://us-python.pkg.dev/colab-wheels/public/simple/\n",
            "Requirement already satisfied: plotly==4.14.3 in /usr/local/lib/python3.8/dist-packages (4.14.3)\n",
            "Requirement already satisfied: six in /usr/local/lib/python3.8/dist-packages (from plotly==4.14.3) (1.15.0)\n",
            "Requirement already satisfied: retrying>=1.3.3 in /usr/local/lib/python3.8/dist-packages (from plotly==4.14.3) (1.3.4)\n",
            "Looking in indexes: https://pypi.org/simple, https://us-python.pkg.dev/colab-wheels/public/simple/\n",
            "Requirement already satisfied: notebook>=5.3 in /usr/local/lib/python3.8/dist-packages (5.7.16)\n",
            "Requirement already satisfied: ipywidgets>=7.5 in /usr/local/lib/python3.8/dist-packages (7.7.1)\n",
            "Requirement already satisfied: ipython-genutils in /usr/local/lib/python3.8/dist-packages (from notebook>=5.3) (0.2.0)\n",
            "Requirement already satisfied: jupyter-core>=4.4.0 in /usr/local/lib/python3.8/dist-packages (from notebook>=5.3) (5.2.0)\n",
            "Requirement already satisfied: ipykernel in /usr/local/lib/python3.8/dist-packages (from notebook>=5.3) (5.3.4)\n",
            "Requirement already satisfied: terminado>=0.8.1 in /usr/local/lib/python3.8/dist-packages (from notebook>=5.3) (0.13.3)\n",
            "Requirement already satisfied: jupyter-client<7.0.0,>=5.2.0 in /usr/local/lib/python3.8/dist-packages (from notebook>=5.3) (6.1.12)\n",
            "Requirement already satisfied: Send2Trash in /usr/local/lib/python3.8/dist-packages (from notebook>=5.3) (1.8.0)\n",
            "Requirement already satisfied: traitlets>=4.2.1 in /usr/local/lib/python3.8/dist-packages (from notebook>=5.3) (5.7.1)\n",
            "Requirement already satisfied: jinja2<=3.0.0 in /usr/local/lib/python3.8/dist-packages (from notebook>=5.3) (2.11.3)\n",
            "Requirement already satisfied: pyzmq>=17 in /usr/local/lib/python3.8/dist-packages (from notebook>=5.3) (23.2.1)\n",
            "Requirement already satisfied: nbconvert<6.0 in /usr/local/lib/python3.8/dist-packages (from notebook>=5.3) (5.6.1)\n",
            "Requirement already satisfied: prometheus-client in /usr/local/lib/python3.8/dist-packages (from notebook>=5.3) (0.16.0)\n",
            "Requirement already satisfied: tornado<7,>=4.1 in /usr/local/lib/python3.8/dist-packages (from notebook>=5.3) (6.0.4)\n",
            "Requirement already satisfied: nbformat in /usr/local/lib/python3.8/dist-packages (from notebook>=5.3) (5.7.3)\n",
            "Requirement already satisfied: widgetsnbextension~=3.6.0 in /usr/local/lib/python3.8/dist-packages (from ipywidgets>=7.5) (3.6.1)\n",
            "Requirement already satisfied: ipython>=4.0.0 in /usr/local/lib/python3.8/dist-packages (from ipywidgets>=7.5) (7.9.0)\n",
            "Requirement already satisfied: jupyterlab-widgets>=1.0.0 in /usr/local/lib/python3.8/dist-packages (from ipywidgets>=7.5) (3.0.5)\n",
            "Requirement already satisfied: jedi>=0.10 in /usr/local/lib/python3.8/dist-packages (from ipython>=4.0.0->ipywidgets>=7.5) (0.18.2)\n",
            "Requirement already satisfied: prompt-toolkit<2.1.0,>=2.0.0 in /usr/local/lib/python3.8/dist-packages (from ipython>=4.0.0->ipywidgets>=7.5) (2.0.10)\n",
            "Requirement already satisfied: pexpect in /usr/local/lib/python3.8/dist-packages (from ipython>=4.0.0->ipywidgets>=7.5) (4.8.0)\n",
            "Requirement already satisfied: pickleshare in /usr/local/lib/python3.8/dist-packages (from ipython>=4.0.0->ipywidgets>=7.5) (0.7.5)\n",
            "Requirement already satisfied: decorator in /usr/local/lib/python3.8/dist-packages (from ipython>=4.0.0->ipywidgets>=7.5) (4.4.2)\n",
            "Requirement already satisfied: setuptools>=18.5 in /usr/local/lib/python3.8/dist-packages (from ipython>=4.0.0->ipywidgets>=7.5) (57.4.0)\n",
            "Requirement already satisfied: backcall in /usr/local/lib/python3.8/dist-packages (from ipython>=4.0.0->ipywidgets>=7.5) (0.2.0)\n",
            "Requirement already satisfied: pygments in /usr/local/lib/python3.8/dist-packages (from ipython>=4.0.0->ipywidgets>=7.5) (2.6.1)\n",
            "Requirement already satisfied: MarkupSafe>=0.23 in /usr/local/lib/python3.8/dist-packages (from jinja2<=3.0.0->notebook>=5.3) (2.0.1)\n",
            "Requirement already satisfied: python-dateutil>=2.1 in /usr/local/lib/python3.8/dist-packages (from jupyter-client<7.0.0,>=5.2.0->notebook>=5.3) (2.8.2)\n",
            "Requirement already satisfied: platformdirs>=2.5 in /usr/local/lib/python3.8/dist-packages (from jupyter-core>=4.4.0->notebook>=5.3) (2.6.2)\n",
            "Requirement already satisfied: entrypoints>=0.2.2 in /usr/local/lib/python3.8/dist-packages (from nbconvert<6.0->notebook>=5.3) (0.4)\n",
            "Requirement already satisfied: bleach in /usr/local/lib/python3.8/dist-packages (from nbconvert<6.0->notebook>=5.3) (6.0.0)\n",
            "Requirement already satisfied: pandocfilters>=1.4.1 in /usr/local/lib/python3.8/dist-packages (from nbconvert<6.0->notebook>=5.3) (1.5.0)\n",
            "Requirement already satisfied: testpath in /usr/local/lib/python3.8/dist-packages (from nbconvert<6.0->notebook>=5.3) (0.6.0)\n",
            "Requirement already satisfied: defusedxml in /usr/local/lib/python3.8/dist-packages (from nbconvert<6.0->notebook>=5.3) (0.7.1)\n",
            "Requirement already satisfied: mistune<2,>=0.8.1 in /usr/local/lib/python3.8/dist-packages (from nbconvert<6.0->notebook>=5.3) (0.8.4)\n",
            "Requirement already satisfied: fastjsonschema in /usr/local/lib/python3.8/dist-packages (from nbformat->notebook>=5.3) (2.16.2)\n",
            "Requirement already satisfied: jsonschema>=2.6 in /usr/local/lib/python3.8/dist-packages (from nbformat->notebook>=5.3) (4.3.3)\n",
            "Requirement already satisfied: ptyprocess in /usr/local/lib/python3.8/dist-packages (from terminado>=0.8.1->notebook>=5.3) (0.7.0)\n",
            "Requirement already satisfied: parso<0.9.0,>=0.8.0 in /usr/local/lib/python3.8/dist-packages (from jedi>=0.10->ipython>=4.0.0->ipywidgets>=7.5) (0.8.3)\n",
            "Requirement already satisfied: importlib-resources>=1.4.0 in /usr/local/lib/python3.8/dist-packages (from jsonschema>=2.6->nbformat->notebook>=5.3) (5.10.2)\n",
            "Requirement already satisfied: attrs>=17.4.0 in /usr/local/lib/python3.8/dist-packages (from jsonschema>=2.6->nbformat->notebook>=5.3) (22.2.0)\n",
            "Requirement already satisfied: pyrsistent!=0.17.0,!=0.17.1,!=0.17.2,>=0.14.0 in /usr/local/lib/python3.8/dist-packages (from jsonschema>=2.6->nbformat->notebook>=5.3) (0.19.3)\n",
            "Requirement already satisfied: six>=1.9.0 in /usr/local/lib/python3.8/dist-packages (from prompt-toolkit<2.1.0,>=2.0.0->ipython>=4.0.0->ipywidgets>=7.5) (1.15.0)\n",
            "Requirement already satisfied: wcwidth in /usr/local/lib/python3.8/dist-packages (from prompt-toolkit<2.1.0,>=2.0.0->ipython>=4.0.0->ipywidgets>=7.5) (0.2.6)\n",
            "Requirement already satisfied: webencodings in /usr/local/lib/python3.8/dist-packages (from bleach->nbconvert<6.0->notebook>=5.3) (0.5.1)\n",
            "Requirement already satisfied: zipp>=3.1.0 in /usr/local/lib/python3.8/dist-packages (from importlib-resources>=1.4.0->jsonschema>=2.6->nbformat->notebook>=5.3) (3.12.0)\n"
          ]
        }
      ],
      "source": [
        "import pandas_datareader as pdr\n",
        "import datetime\n",
        "import pandas as pd\n",
        "#import matplotlib.pyplot as plt\n",
        "import matplotlib\n",
        "matplotlib.style.use('ggplot')\n",
        "import pandas as pd\n",
        "pd.set_option('display.float_format', lambda x: '%.2f' % x)\n",
        "import numpy as np\n",
        "import datetime\n",
        "import pandas_datareader.data as web\n",
        "import yfinance as yf\n",
        "yf.pdr_override()\n",
        "import matplotlib.pyplot as plt\n",
        "%matplotlib inline\n",
        "from IPython.core.display import display, HTML\n",
        "!pip install plotly==4.14.3\n",
        "!pip install \"notebook>=5.3\" \"ipywidgets>=7.5\"\n",
        "import plotly.graph_objects as go\n",
        "import statsmodels.api as sm\n",
        "from sklearn.model_selection import train_test_split\n",
        "from sklearn.linear_model import LinearRegression\n",
        "from sklearn.metrics import mean_squared_error\n",
        "\n",
        "\n",
        "\n"
      ]
    },
    {
      "cell_type": "code",
      "execution_count": null,
      "metadata": {
        "id": "WX_PhKcIBk-c"
      },
      "outputs": [],
      "source": [
        "# Início e fim\n",
        "#start = datetime.date(2015,1,1).isoformat()\n",
        "#end = datetime.date(2022,8,27).isoformat()\n",
        "start = \"2021-09-08\"\n",
        "end = \"2023-02-07\""
      ]
    },
    {
      "cell_type": "code",
      "execution_count": null,
      "metadata": {
        "id": "XNuYa6OlBk-d",
        "outputId": "0cc1662b-9a0b-41c3-dcb2-e8816f83d056",
        "colab": {
          "base_uri": "https://localhost:8080/"
        }
      },
      "outputs": [
        {
          "output_type": "stream",
          "name": "stdout",
          "text": [
            "[*********************100%***********************]  1 of 1 completed\n",
            "[*********************100%***********************]  1 of 1 completed\n"
          ]
        }
      ],
      "source": [
        "# Recupera dados\n",
        "ativo = web.get_data_yahoo('VALE3.SA',start,end) \n",
        "ibov = web.get_data_yahoo('^BVSP',start,end) #Ibovespa\n"
      ]
    },
    {
      "cell_type": "code",
      "execution_count": null,
      "metadata": {
        "id": "iJczymsfBk-e",
        "colab": {
          "base_uri": "https://localhost:8080/",
          "height": 455
        },
        "outputId": "a34e25eb-2fa4-4a74-cc38-f46b7eff1d0d"
      },
      "outputs": [
        {
          "output_type": "execute_result",
          "data": {
            "text/plain": [
              "                           Open  High   Low  Close  Adj Close    Volume\n",
              "Date                                                                   \n",
              "2021-09-08 00:00:00-03:00 96.47 96.73 94.70  95.04      78.56  22635100\n",
              "2021-09-09 00:00:00-03:00 95.16 95.72 93.17  94.70      78.28  28997700\n",
              "2021-09-10 00:00:00-03:00 95.51 96.19 94.81  94.81      78.37  18022000\n",
              "2021-09-13 00:00:00-03:00 94.70 95.00 93.94  94.76      78.32  18832800\n",
              "2021-09-14 00:00:00-03:00 95.15 95.58 93.07  94.09      77.77  25571600\n",
              "...                         ...   ...   ...    ...        ...       ...\n",
              "2023-01-31 00:00:00-03:00 94.31 94.88 93.85  94.51      94.51  20658600\n",
              "2023-02-01 00:00:00-03:00 95.20 95.20 91.59  93.46      93.46  28818100\n",
              "2023-02-02 00:00:00-03:00 91.69 91.96 88.86  89.14      89.14  37844400\n",
              "2023-02-03 00:00:00-03:00 89.76 90.77 88.69  88.95      88.95  22545600\n",
              "2023-02-06 00:00:00-03:00 88.20 88.25 86.66  87.84      87.84  17888700\n",
              "\n",
              "[354 rows x 6 columns]"
            ],
            "text/html": [
              "\n",
              "  <div id=\"df-53e85bdf-4141-4109-b3f2-7d2f9c6626cf\">\n",
              "    <div class=\"colab-df-container\">\n",
              "      <div>\n",
              "<style scoped>\n",
              "    .dataframe tbody tr th:only-of-type {\n",
              "        vertical-align: middle;\n",
              "    }\n",
              "\n",
              "    .dataframe tbody tr th {\n",
              "        vertical-align: top;\n",
              "    }\n",
              "\n",
              "    .dataframe thead th {\n",
              "        text-align: right;\n",
              "    }\n",
              "</style>\n",
              "<table border=\"1\" class=\"dataframe\">\n",
              "  <thead>\n",
              "    <tr style=\"text-align: right;\">\n",
              "      <th></th>\n",
              "      <th>Open</th>\n",
              "      <th>High</th>\n",
              "      <th>Low</th>\n",
              "      <th>Close</th>\n",
              "      <th>Adj Close</th>\n",
              "      <th>Volume</th>\n",
              "    </tr>\n",
              "    <tr>\n",
              "      <th>Date</th>\n",
              "      <th></th>\n",
              "      <th></th>\n",
              "      <th></th>\n",
              "      <th></th>\n",
              "      <th></th>\n",
              "      <th></th>\n",
              "    </tr>\n",
              "  </thead>\n",
              "  <tbody>\n",
              "    <tr>\n",
              "      <th>2021-09-08 00:00:00-03:00</th>\n",
              "      <td>96.47</td>\n",
              "      <td>96.73</td>\n",
              "      <td>94.70</td>\n",
              "      <td>95.04</td>\n",
              "      <td>78.56</td>\n",
              "      <td>22635100</td>\n",
              "    </tr>\n",
              "    <tr>\n",
              "      <th>2021-09-09 00:00:00-03:00</th>\n",
              "      <td>95.16</td>\n",
              "      <td>95.72</td>\n",
              "      <td>93.17</td>\n",
              "      <td>94.70</td>\n",
              "      <td>78.28</td>\n",
              "      <td>28997700</td>\n",
              "    </tr>\n",
              "    <tr>\n",
              "      <th>2021-09-10 00:00:00-03:00</th>\n",
              "      <td>95.51</td>\n",
              "      <td>96.19</td>\n",
              "      <td>94.81</td>\n",
              "      <td>94.81</td>\n",
              "      <td>78.37</td>\n",
              "      <td>18022000</td>\n",
              "    </tr>\n",
              "    <tr>\n",
              "      <th>2021-09-13 00:00:00-03:00</th>\n",
              "      <td>94.70</td>\n",
              "      <td>95.00</td>\n",
              "      <td>93.94</td>\n",
              "      <td>94.76</td>\n",
              "      <td>78.32</td>\n",
              "      <td>18832800</td>\n",
              "    </tr>\n",
              "    <tr>\n",
              "      <th>2021-09-14 00:00:00-03:00</th>\n",
              "      <td>95.15</td>\n",
              "      <td>95.58</td>\n",
              "      <td>93.07</td>\n",
              "      <td>94.09</td>\n",
              "      <td>77.77</td>\n",
              "      <td>25571600</td>\n",
              "    </tr>\n",
              "    <tr>\n",
              "      <th>...</th>\n",
              "      <td>...</td>\n",
              "      <td>...</td>\n",
              "      <td>...</td>\n",
              "      <td>...</td>\n",
              "      <td>...</td>\n",
              "      <td>...</td>\n",
              "    </tr>\n",
              "    <tr>\n",
              "      <th>2023-01-31 00:00:00-03:00</th>\n",
              "      <td>94.31</td>\n",
              "      <td>94.88</td>\n",
              "      <td>93.85</td>\n",
              "      <td>94.51</td>\n",
              "      <td>94.51</td>\n",
              "      <td>20658600</td>\n",
              "    </tr>\n",
              "    <tr>\n",
              "      <th>2023-02-01 00:00:00-03:00</th>\n",
              "      <td>95.20</td>\n",
              "      <td>95.20</td>\n",
              "      <td>91.59</td>\n",
              "      <td>93.46</td>\n",
              "      <td>93.46</td>\n",
              "      <td>28818100</td>\n",
              "    </tr>\n",
              "    <tr>\n",
              "      <th>2023-02-02 00:00:00-03:00</th>\n",
              "      <td>91.69</td>\n",
              "      <td>91.96</td>\n",
              "      <td>88.86</td>\n",
              "      <td>89.14</td>\n",
              "      <td>89.14</td>\n",
              "      <td>37844400</td>\n",
              "    </tr>\n",
              "    <tr>\n",
              "      <th>2023-02-03 00:00:00-03:00</th>\n",
              "      <td>89.76</td>\n",
              "      <td>90.77</td>\n",
              "      <td>88.69</td>\n",
              "      <td>88.95</td>\n",
              "      <td>88.95</td>\n",
              "      <td>22545600</td>\n",
              "    </tr>\n",
              "    <tr>\n",
              "      <th>2023-02-06 00:00:00-03:00</th>\n",
              "      <td>88.20</td>\n",
              "      <td>88.25</td>\n",
              "      <td>86.66</td>\n",
              "      <td>87.84</td>\n",
              "      <td>87.84</td>\n",
              "      <td>17888700</td>\n",
              "    </tr>\n",
              "  </tbody>\n",
              "</table>\n",
              "<p>354 rows × 6 columns</p>\n",
              "</div>\n",
              "      <button class=\"colab-df-convert\" onclick=\"convertToInteractive('df-53e85bdf-4141-4109-b3f2-7d2f9c6626cf')\"\n",
              "              title=\"Convert this dataframe to an interactive table.\"\n",
              "              style=\"display:none;\">\n",
              "        \n",
              "  <svg xmlns=\"http://www.w3.org/2000/svg\" height=\"24px\"viewBox=\"0 0 24 24\"\n",
              "       width=\"24px\">\n",
              "    <path d=\"M0 0h24v24H0V0z\" fill=\"none\"/>\n",
              "    <path d=\"M18.56 5.44l.94 2.06.94-2.06 2.06-.94-2.06-.94-.94-2.06-.94 2.06-2.06.94zm-11 1L8.5 8.5l.94-2.06 2.06-.94-2.06-.94L8.5 2.5l-.94 2.06-2.06.94zm10 10l.94 2.06.94-2.06 2.06-.94-2.06-.94-.94-2.06-.94 2.06-2.06.94z\"/><path d=\"M17.41 7.96l-1.37-1.37c-.4-.4-.92-.59-1.43-.59-.52 0-1.04.2-1.43.59L10.3 9.45l-7.72 7.72c-.78.78-.78 2.05 0 2.83L4 21.41c.39.39.9.59 1.41.59.51 0 1.02-.2 1.41-.59l7.78-7.78 2.81-2.81c.8-.78.8-2.07 0-2.86zM5.41 20L4 18.59l7.72-7.72 1.47 1.35L5.41 20z\"/>\n",
              "  </svg>\n",
              "      </button>\n",
              "      \n",
              "  <style>\n",
              "    .colab-df-container {\n",
              "      display:flex;\n",
              "      flex-wrap:wrap;\n",
              "      gap: 12px;\n",
              "    }\n",
              "\n",
              "    .colab-df-convert {\n",
              "      background-color: #E8F0FE;\n",
              "      border: none;\n",
              "      border-radius: 50%;\n",
              "      cursor: pointer;\n",
              "      display: none;\n",
              "      fill: #1967D2;\n",
              "      height: 32px;\n",
              "      padding: 0 0 0 0;\n",
              "      width: 32px;\n",
              "    }\n",
              "\n",
              "    .colab-df-convert:hover {\n",
              "      background-color: #E2EBFA;\n",
              "      box-shadow: 0px 1px 2px rgba(60, 64, 67, 0.3), 0px 1px 3px 1px rgba(60, 64, 67, 0.15);\n",
              "      fill: #174EA6;\n",
              "    }\n",
              "\n",
              "    [theme=dark] .colab-df-convert {\n",
              "      background-color: #3B4455;\n",
              "      fill: #D2E3FC;\n",
              "    }\n",
              "\n",
              "    [theme=dark] .colab-df-convert:hover {\n",
              "      background-color: #434B5C;\n",
              "      box-shadow: 0px 1px 3px 1px rgba(0, 0, 0, 0.15);\n",
              "      filter: drop-shadow(0px 1px 2px rgba(0, 0, 0, 0.3));\n",
              "      fill: #FFFFFF;\n",
              "    }\n",
              "  </style>\n",
              "\n",
              "      <script>\n",
              "        const buttonEl =\n",
              "          document.querySelector('#df-53e85bdf-4141-4109-b3f2-7d2f9c6626cf button.colab-df-convert');\n",
              "        buttonEl.style.display =\n",
              "          google.colab.kernel.accessAllowed ? 'block' : 'none';\n",
              "\n",
              "        async function convertToInteractive(key) {\n",
              "          const element = document.querySelector('#df-53e85bdf-4141-4109-b3f2-7d2f9c6626cf');\n",
              "          const dataTable =\n",
              "            await google.colab.kernel.invokeFunction('convertToInteractive',\n",
              "                                                     [key], {});\n",
              "          if (!dataTable) return;\n",
              "\n",
              "          const docLinkHtml = 'Like what you see? Visit the ' +\n",
              "            '<a target=\"_blank\" href=https://colab.research.google.com/notebooks/data_table.ipynb>data table notebook</a>'\n",
              "            + ' to learn more about interactive tables.';\n",
              "          element.innerHTML = '';\n",
              "          dataTable['output_type'] = 'display_data';\n",
              "          await google.colab.output.renderOutput(dataTable, element);\n",
              "          const docLink = document.createElement('div');\n",
              "          docLink.innerHTML = docLinkHtml;\n",
              "          element.appendChild(docLink);\n",
              "        }\n",
              "      </script>\n",
              "    </div>\n",
              "  </div>\n",
              "  "
            ]
          },
          "metadata": {},
          "execution_count": 144
        }
      ],
      "source": [
        "ativo"
      ]
    },
    {
      "cell_type": "code",
      "source": [
        "plt.figure(figsize=(20,10))\n",
        "plt.plot(ativo.loc[:,[col for col in ativo.columns if col != \"Volume\"]])"
      ],
      "metadata": {
        "id": "F6X0FRZUseM7",
        "colab": {
          "base_uri": "https://localhost:8080/",
          "height": 679
        },
        "outputId": "db650e33-63b8-424f-ba90-eb775d6bccad"
      },
      "execution_count": null,
      "outputs": [
        {
          "output_type": "execute_result",
          "data": {
            "text/plain": [
              "[<matplotlib.lines.Line2D at 0x7f2e4541bf40>,\n",
              " <matplotlib.lines.Line2D at 0x7f2e4531f190>,\n",
              " <matplotlib.lines.Line2D at 0x7f2e4531f1f0>,\n",
              " <matplotlib.lines.Line2D at 0x7f2e4531fbb0>,\n",
              " <matplotlib.lines.Line2D at 0x7f2e45398760>]"
            ]
          },
          "metadata": {},
          "execution_count": 145
        },
        {
          "output_type": "display_data",
          "data": {
            "text/plain": [
              "<Figure size 1440x720 with 1 Axes>"
            ],
            "image/png": "[encoded data removed]"
          },
          "metadata": {
            "needs_background": "light"
          }
        }
      ]
    },
    {
      "cell_type": "markdown",
      "metadata": {
        "id": "lzQiKd6dBk-o"
      },
      "source": [
        "## Regressão Linear"
      ]
    },
    {
      "cell_type": "markdown",
      "metadata": {
        "id": "_op-l2eUBk-o"
      },
      "source": [
        "Imagine a relação entre horas de estudos e resultado acadêmico.  \n",
        "Quanto mais horas de estudo, melhor o resultado. Pode-se tentar estabelecer uma relação linear entre ambas variáveis."
      ]
    },
    {
      "cell_type": "code",
      "execution_count": null,
      "metadata": {
        "id": "U2-m5fdcBk-p"
      },
      "outputs": [],
      "source": [
        "# Criação da coluna Var\n",
        "ativo['var'] = ativo['Adj Close'].pct_change()\n",
        "ativo = ativo.dropna()\n",
        "ibov['var'] = ibov['Adj Close'].pct_change()\n",
        "ibov = ibov.dropna()"
      ]
    },
    {
      "cell_type": "code",
      "execution_count": null,
      "metadata": {
        "id": "3Vmn6RKEBk-q",
        "colab": {
          "base_uri": "https://localhost:8080/"
        },
        "outputId": "2cf7345a-bb21-497f-83e1-d7c60dc9e372"
      },
      "outputs": [
        {
          "output_type": "stream",
          "name": "stderr",
          "text": [
            "/usr/local/lib/python3.8/dist-packages/statsmodels/tsa/tsatools.py:142: FutureWarning: In a future version of pandas all arguments of concat except for the argument 'objs' will be keyword-only\n",
            "  x = pd.concat(x[::order], 1)\n"
          ]
        },
        {
          "output_type": "execute_result",
          "data": {
            "text/plain": [
              "const   0.00\n",
              "var     0.87\n",
              "dtype: float64"
            ]
          },
          "metadata": {},
          "execution_count": 147
        }
      ],
      "source": [
        "Y = ativo['var']\n",
        "X = ibov['var']\n",
        "X = sm.add_constant(X)\n",
        "model = sm.OLS(Y,X)\n",
        "results = model.fit()\n",
        "results.params"
      ]
    },
    {
      "cell_type": "code",
      "execution_count": null,
      "metadata": {
        "id": "WrADtFiNBk-r",
        "colab": {
          "base_uri": "https://localhost:8080/"
        },
        "outputId": "3241412b-2c83-4d39-ad62-7dc7c225fd64"
      },
      "outputs": [
        {
          "output_type": "execute_result",
          "data": {
            "text/plain": [
              "353"
            ]
          },
          "metadata": {},
          "execution_count": 148
        }
      ],
      "source": [
        "ibov['var'].size"
      ]
    },
    {
      "cell_type": "code",
      "execution_count": null,
      "metadata": {
        "id": "E_i6_W2cBk-s",
        "colab": {
          "base_uri": "https://localhost:8080/"
        },
        "outputId": "b09d102d-7bbe-447a-be54-69fbc16159ef"
      },
      "outputs": [
        {
          "output_type": "execute_result",
          "data": {
            "text/plain": [
              "353"
            ]
          },
          "metadata": {},
          "execution_count": 149
        }
      ],
      "source": [
        "ativo['var'].size"
      ]
    },
    {
      "cell_type": "code",
      "execution_count": null,
      "metadata": {
        "id": "mbroLnvkBk-s",
        "colab": {
          "base_uri": "https://localhost:8080/"
        },
        "outputId": "0d19ccdf-115d-44b1-f554-b77bda666cf1"
      },
      "outputs": [
        {
          "output_type": "execute_result",
          "data": {
            "text/plain": [
              "DatetimeIndex([], dtype='datetime64[ns, America/Sao_Paulo]', name='Date', freq=None)"
            ]
          },
          "metadata": {},
          "execution_count": 150
        }
      ],
      "source": [
        "ativo['var'].index.difference(ibov['var'].index)"
      ]
    },
    {
      "cell_type": "code",
      "execution_count": null,
      "metadata": {
        "id": "48MBc9-ABk-t"
      },
      "outputs": [],
      "source": [
        "# Eliminando as linhas estranhas\n",
        "df = pd.concat(\n",
        "    {'ibov':ibov['var'], 'ativo':ativo['var']},\n",
        "    join='inner', # INNER VAI DESCARTAR OS DIAS EM QUE TEMOS UMA VARIÁVEL E NÃO A OUTRA\n",
        "    axis=1\n",
        ")"
      ]
    },
    {
      "cell_type": "code",
      "execution_count": null,
      "metadata": {
        "id": "WkmIPxCGBk-t",
        "colab": {
          "base_uri": "https://localhost:8080/",
          "height": 455
        },
        "outputId": "4c5cdc11-0dd8-43f2-dc9e-ca6283864ec3"
      },
      "outputs": [
        {
          "output_type": "execute_result",
          "data": {
            "text/plain": [
              "                           ibov  ativo\n",
              "Date                                  \n",
              "2021-09-09 00:00:00-03:00  0.02  -0.00\n",
              "2021-09-10 00:00:00-03:00 -0.01   0.00\n",
              "2021-09-13 00:00:00-03:00  0.02  -0.00\n",
              "2021-09-14 00:00:00-03:00 -0.00  -0.01\n",
              "2021-09-15 00:00:00-03:00 -0.01  -0.02\n",
              "...                         ...    ...\n",
              "2023-01-31 00:00:00-03:00  0.01  -0.00\n",
              "2023-02-01 00:00:00-03:00 -0.01  -0.01\n",
              "2023-02-02 00:00:00-03:00 -0.02  -0.05\n",
              "2023-02-03 00:00:00-03:00 -0.01  -0.00\n",
              "2023-02-06 00:00:00-03:00 -0.00  -0.01\n",
              "\n",
              "[353 rows x 2 columns]"
            ],
            "text/html": [
              "\n",
              "  <div id=\"df-e1624148-30b4-4849-9bf7-bb9284472284\">\n",
              "    <div class=\"colab-df-container\">\n",
              "      <div>\n",
              "<style scoped>\n",
              "    .dataframe tbody tr th:only-of-type {\n",
              "        vertical-align: middle;\n",
              "    }\n",
              "\n",
              "    .dataframe tbody tr th {\n",
              "        vertical-align: top;\n",
              "    }\n",
              "\n",
              "    .dataframe thead th {\n",
              "        text-align: right;\n",
              "    }\n",
              "</style>\n",
              "<table border=\"1\" class=\"dataframe\">\n",
              "  <thead>\n",
              "    <tr style=\"text-align: right;\">\n",
              "      <th></th>\n",
              "      <th>ibov</th>\n",
              "      <th>ativo</th>\n",
              "    </tr>\n",
              "    <tr>\n",
              "      <th>Date</th>\n",
              "      <th></th>\n",
              "      <th></th>\n",
              "    </tr>\n",
              "  </thead>\n",
              "  <tbody>\n",
              "    <tr>\n",
              "      <th>2021-09-09 00:00:00-03:00</th>\n",
              "      <td>0.02</td>\n",
              "      <td>-0.00</td>\n",
              "    </tr>\n",
              "    <tr>\n",
              "      <th>2021-09-10 00:00:00-03:00</th>\n",
              "      <td>-0.01</td>\n",
              "      <td>0.00</td>\n",
              "    </tr>\n",
              "    <tr>\n",
              "      <th>2021-09-13 00:00:00-03:00</th>\n",
              "      <td>0.02</td>\n",
              "      <td>-0.00</td>\n",
              "    </tr>\n",
              "    <tr>\n",
              "      <th>2021-09-14 00:00:00-03:00</th>\n",
              "      <td>-0.00</td>\n",
              "      <td>-0.01</td>\n",
              "    </tr>\n",
              "    <tr>\n",
              "      <th>2021-09-15 00:00:00-03:00</th>\n",
              "      <td>-0.01</td>\n",
              "      <td>-0.02</td>\n",
              "    </tr>\n",
              "    <tr>\n",
              "      <th>...</th>\n",
              "      <td>...</td>\n",
              "      <td>...</td>\n",
              "    </tr>\n",
              "    <tr>\n",
              "      <th>2023-01-31 00:00:00-03:00</th>\n",
              "      <td>0.01</td>\n",
              "      <td>-0.00</td>\n",
              "    </tr>\n",
              "    <tr>\n",
              "      <th>2023-02-01 00:00:00-03:00</th>\n",
              "      <td>-0.01</td>\n",
              "      <td>-0.01</td>\n",
              "    </tr>\n",
              "    <tr>\n",
              "      <th>2023-02-02 00:00:00-03:00</th>\n",
              "      <td>-0.02</td>\n",
              "      <td>-0.05</td>\n",
              "    </tr>\n",
              "    <tr>\n",
              "      <th>2023-02-03 00:00:00-03:00</th>\n",
              "      <td>-0.01</td>\n",
              "      <td>-0.00</td>\n",
              "    </tr>\n",
              "    <tr>\n",
              "      <th>2023-02-06 00:00:00-03:00</th>\n",
              "      <td>-0.00</td>\n",
              "      <td>-0.01</td>\n",
              "    </tr>\n",
              "  </tbody>\n",
              "</table>\n",
              "<p>353 rows × 2 columns</p>\n",
              "</div>\n",
              "      <button class=\"colab-df-convert\" onclick=\"convertToInteractive('df-e1624148-30b4-4849-9bf7-bb9284472284')\"\n",
              "              title=\"Convert this dataframe to an interactive table.\"\n",
              "              style=\"display:none;\">\n",
              "        \n",
              "  <svg xmlns=\"http://www.w3.org/2000/svg\" height=\"24px\"viewBox=\"0 0 24 24\"\n",
              "       width=\"24px\">\n",
              "    <path d=\"M0 0h24v24H0V0z\" fill=\"none\"/>\n",
              "    <path d=\"M18.56 5.44l.94 2.06.94-2.06 2.06-.94-2.06-.94-.94-2.06-.94 2.06-2.06.94zm-11 1L8.5 8.5l.94-2.06 2.06-.94-2.06-.94L8.5 2.5l-.94 2.06-2.06.94zm10 10l.94 2.06.94-2.06 2.06-.94-2.06-.94-.94-2.06-.94 2.06-2.06.94z\"/><path d=\"M17.41 7.96l-1.37-1.37c-.4-.4-.92-.59-1.43-.59-.52 0-1.04.2-1.43.59L10.3 9.45l-7.72 7.72c-.78.78-.78 2.05 0 2.83L4 21.41c.39.39.9.59 1.41.59.51 0 1.02-.2 1.41-.59l7.78-7.78 2.81-2.81c.8-.78.8-2.07 0-2.86zM5.41 20L4 18.59l7.72-7.72 1.47 1.35L5.41 20z\"/>\n",
              "  </svg>\n",
              "      </button>\n",
              "      \n",
              "  <style>\n",
              "    .colab-df-container {\n",
              "      display:flex;\n",
              "      flex-wrap:wrap;\n",
              "      gap: 12px;\n",
              "    }\n",
              "\n",
              "    .colab-df-convert {\n",
              "      background-color: #E8F0FE;\n",
              "      border: none;\n",
              "      border-radius: 50%;\n",
              "      cursor: pointer;\n",
              "      display: none;\n",
              "      fill: #1967D2;\n",
              "      height: 32px;\n",
              "      padding: 0 0 0 0;\n",
              "      width: 32px;\n",
              "    }\n",
              "\n",
              "    .colab-df-convert:hover {\n",
              "      background-color: #E2EBFA;\n",
              "      box-shadow: 0px 1px 2px rgba(60, 64, 67, 0.3), 0px 1px 3px 1px rgba(60, 64, 67, 0.15);\n",
              "      fill: #174EA6;\n",
              "    }\n",
              "\n",
              "    [theme=dark] .colab-df-convert {\n",
              "      background-color: #3B4455;\n",
              "      fill: #D2E3FC;\n",
              "    }\n",
              "\n",
              "    [theme=dark] .colab-df-convert:hover {\n",
              "      background-color: #434B5C;\n",
              "      box-shadow: 0px 1px 3px 1px rgba(0, 0, 0, 0.15);\n",
              "      filter: drop-shadow(0px 1px 2px rgba(0, 0, 0, 0.3));\n",
              "      fill: #FFFFFF;\n",
              "    }\n",
              "  </style>\n",
              "\n",
              "      <script>\n",
              "        const buttonEl =\n",
              "          document.querySelector('#df-e1624148-30b4-4849-9bf7-bb9284472284 button.colab-df-convert');\n",
              "        buttonEl.style.display =\n",
              "          google.colab.kernel.accessAllowed ? 'block' : 'none';\n",
              "\n",
              "        async function convertToInteractive(key) {\n",
              "          const element = document.querySelector('#df-e1624148-30b4-4849-9bf7-bb9284472284');\n",
              "          const dataTable =\n",
              "            await google.colab.kernel.invokeFunction('convertToInteractive',\n",
              "                                                     [key], {});\n",
              "          if (!dataTable) return;\n",
              "\n",
              "          const docLinkHtml = 'Like what you see? Visit the ' +\n",
              "            '<a target=\"_blank\" href=https://colab.research.google.com/notebooks/data_table.ipynb>data table notebook</a>'\n",
              "            + ' to learn more about interactive tables.';\n",
              "          element.innerHTML = '';\n",
              "          dataTable['output_type'] = 'display_data';\n",
              "          await google.colab.output.renderOutput(dataTable, element);\n",
              "          const docLink = document.createElement('div');\n",
              "          docLink.innerHTML = docLinkHtml;\n",
              "          element.appendChild(docLink);\n",
              "        }\n",
              "      </script>\n",
              "    </div>\n",
              "  </div>\n",
              "  "
            ]
          },
          "metadata": {},
          "execution_count": 152
        }
      ],
      "source": [
        "df"
      ]
    },
    {
      "cell_type": "code",
      "execution_count": null,
      "metadata": {
        "id": "m-cUTU_ABk-u",
        "colab": {
          "base_uri": "https://localhost:8080/",
          "height": 534
        },
        "outputId": "08704801-ea09-48c8-9f1e-ff2afc0f540d"
      },
      "outputs": [
        {
          "output_type": "execute_result",
          "data": {
            "text/plain": [
              "<matplotlib.axes._subplots.AxesSubplot at 0x7f2e45029e20>"
            ]
          },
          "metadata": {},
          "execution_count": 153
        },
        {
          "output_type": "display_data",
          "data": {
            "text/plain": [
              "<Figure size 576x576 with 1 Axes>"
            ],
            "image/png": "[encoded data removed]"
          },
          "metadata": {
            "needs_background": "light"
          }
        }
      ],
      "source": [
        "df.plot.scatter('ibov','ativo', title = 'Gráfico de Dispersão' , figsize=(8,8))"
      ]
    },
    {
      "cell_type": "code",
      "execution_count": null,
      "metadata": {
        "id": "QGCat-MeBk-u",
        "colab": {
          "base_uri": "https://localhost:8080/"
        },
        "outputId": "0b24cf4f-1b75-46f0-fc3c-53eb6e04cb04"
      },
      "outputs": [
        {
          "output_type": "stream",
          "name": "stderr",
          "text": [
            "/usr/local/lib/python3.8/dist-packages/statsmodels/tsa/tsatools.py:142: FutureWarning: In a future version of pandas all arguments of concat except for the argument 'objs' will be keyword-only\n",
            "  x = pd.concat(x[::order], 1)\n"
          ]
        },
        {
          "output_type": "execute_result",
          "data": {
            "text/plain": [
              "const   0.00\n",
              "ibov    0.87\n",
              "dtype: float64"
            ]
          },
          "metadata": {},
          "execution_count": 154
        }
      ],
      "source": [
        "# Efetuando a regressão para o período)\n",
        "\n",
        "Y = df.ativo\n",
        "X = df.ibov\n",
        "X = sm.add_constant(X)\n",
        "model = sm.OLS(Y,X)\n",
        "results = model.fit()\n",
        "results.params"
      ]
    },
    {
      "cell_type": "code",
      "source": [
        "\n",
        "\n",
        "plt.rc(\"figure\", figsize=(16, 8))\n",
        "plt.rc(\"font\", size=14)\n",
        "\n",
        "olsmod = sm.OLS(Y, X)\n",
        "olsres = olsmod.fit()\n",
        "print(olsres.summary())\n",
        "\n"
      ],
      "metadata": {
        "id": "62nMT3w-HbLN",
        "colab": {
          "base_uri": "https://localhost:8080/"
        },
        "outputId": "6018fb51-0759-4be6-a9a3-9d7306b9c343"
      },
      "execution_count": null,
      "outputs": [
        {
          "output_type": "stream",
          "name": "stdout",
          "text": [
            "                            OLS Regression Results                            \n",
            "==============================================================================\n",
            "Dep. Variable:                  ativo   R-squared:                       0.243\n",
            "Model:                            OLS   Adj. R-squared:                  0.241\n",
            "Method:                 Least Squares   F-statistic:                     112.9\n",
            "Date:                Tue, 07 Feb 2023   Prob (F-statistic):           4.77e-23\n",
            "Time:                        16:01:35   Log-Likelihood:                 866.65\n",
            "No. Observations:                 353   AIC:                            -1729.\n",
            "Df Residuals:                     351   BIC:                            -1722.\n",
            "Df Model:                           1                                         \n",
            "Covariance Type:            nonrobust                                         \n",
            "==============================================================================\n",
            "                 coef    std err          t      P>|t|      [0.025      0.975]\n",
            "------------------------------------------------------------------------------\n",
            "const          0.0006      0.001      0.568      0.570      -0.002       0.003\n",
            "ibov           0.8704      0.082     10.625      0.000       0.709       1.032\n",
            "==============================================================================\n",
            "Omnibus:                       18.244   Durbin-Watson:                   1.989\n",
            "Prob(Omnibus):                  0.000   Jarque-Bera (JB):               32.149\n",
            "Skew:                           0.317   Prob(JB):                     1.04e-07\n",
            "Kurtosis:                       4.336   Cond. No.                         73.9\n",
            "==============================================================================\n",
            "\n",
            "Notes:\n",
            "[1] Standard Errors assume that the covariance matrix of the errors is correctly specified.\n"
          ]
        }
      ]
    },
    {
      "cell_type": "markdown",
      "source": [
        "Propriedades do coeficiente de correlação linear\n",
        " −1 ≤ r ≤ 1\n",
        " Se r ≈ 1 ⇒ correlação forte positiva.\n",
        " Se r ≈ −1 ⇒ correlação forte negativa.\n",
        " Se r ≈ 0 ⇒ não existe correlação linear."
      ],
      "metadata": {
        "id": "Q3JcaDFaGjTT"
      }
    },
    {
      "cell_type": "markdown",
      "source": [
        "https://www.geeksforgeeks.org/interpreting-the-results-of-linear-regression-using-ols-summary/\n",
        "\n",
        "Na regressão existem dois tipos de variáveis, ou seja, variável dependente (também chamada de variável explicada) e variável independente (variável explicativa). \n",
        "\n",
        "A linha de regressão usada aqui é,\n",
        "\n",
        "\\hat{Y}_{i}=-3,2002+0,7529 X_{i}\n",
        "\n",
        "A tabela de resumo da regressão é fornecida abaixo.\n",
        "\n",
        "                                    Resultados de regressão OLS                            \n",
        "        ================================================== ============================\n",
        "        Departamento Variável: y R-quadrado: 0,669\n",
        "        Modelo: OLS Adj. R ao quadrado: 0,667\n",
        "        Método: Estatística F dos Mínimos Quadrados: 299,2\n",
        "        Data: Seg, 01 de março de 2021 Prob (estatística F): 2.33e-37\n",
        "        Hora: 16:19:34 Log-Probabilidade: -88.686\n",
        "        Nº Observações: 150 AIC: 181,4\n",
        "        Df Residuais: 148 BIC: 187,4\n",
        "        Modelo Df: 1                                         \n",
        "        Tipo de covariância: não robusto                                         \n",
        "        ================================================== ============================\n",
        "                         coef std err t P>|t| [0,025 0,975]\n",
        "        -------------------------------------------------- ----------------------------\n",
        "        const -3,2002 0,257 -12,458 0,000 -3,708 -2,693\n",
        "        x1 0,7529 0,044 17,296 0,000 0,667 0,839\n",
        "        ================================================== ============================\n",
        "        Omnibus: 3.538 Durbin-Watson: 1.279\n",
        "        Prob(Omnibus): 0,171 Jarque-Bera (JB): 3,589\n",
        "        Inclinação: 0,357 Prob(JB): 0,166\n",
        "        Curtose: 2.744 Cond. Nº 43.4\n",
        "        ================================================== ============================\n",
        "Variável dependente: Variável dependente é aquela que vai depender de outras variáveis. Nesta análise de regressão Y é nossa variável dependente porque queremos analisar o efeito de X em Y.\n",
        "\n",
        "Modelo: O método dos Mínimos Quadrados Ordinários (OLS) é o modelo mais utilizado devido à sua eficiência. Este modelo fornece a melhor aproximação da linha de regressão populacional verdadeira. O princípio do OLS é minimizar o quadrado dos erros ( ∑e i 2 ).\n",
        "\n",
        "Número de observações: O número de observações é o tamanho da nossa amostra, ou seja, N = 150.\n",
        "\n",
        "Grau de liberdade (df) dos resíduos: \n",
        "Grau de liberdade é o número de observações independentes com base nas quais a soma dos quadrados é calculada.\n",
        "\n",
        "Resíduos Df = 150 – (1+1) = 148\n",
        "\n",
        "Grau de liberdade (Df) é calculado como,      \n",
        "\n",
        " Graus de liberdade,   D. f = N – K\n",
        "\n",
        "Onde, N = tamanho da amostra (nº de observações) e   K = número de variáveis ​​+ 1\n",
        "\n",
        "Df do modelo: \n",
        "Df do modelo = K – 1 = 2 – 1 = 1 ,\n",
        "\n",
        "Onde, K = número de variáveis ​​+ 1\n",
        "\n",
        "\n",
        "\n",
        "                   \n",
        "\n",
        "Termo constante: Os termos constantes são a interseção da linha de regressão. Da linha de regressão (eq…1) o intercepto é -3,002. Na regressão omitimos algumas variáveis ​​independentes que não têm muito impacto na variável dependente, o intercepto informa o valor médio dessas variáveis ​​omitidas e ruídos presentes no modelo.\n",
        "\n",
        "Termo do coeficiente: O termo do coeficiente informa a mudança em Y para uma mudança de unidade em X   , ou seja, se X aumenta em 1 unidade, então Y aumenta em 0,7529. Se você estiver familiarizado com as derivadas, poderá relacioná-las como a taxa de variação de Y em relação a X.\n",
        "\n",
        "Erro padrão dos parâmetros: O erro padrão também é chamado de desvio padrão. O erro padrão mostra a variabilidade amostral desses parâmetros. O erro padrão é calculado por – \n",
        " \n",
        "\n",
        "Erro padrão do termo de interceptação (b1): \n",
        "\n",
        "se\\left(b_{1}\\right)=\\sqrt{\\left(\\frac{\\sum x_{i}^{2}}{n \\sum\\left(x_{i}-\\bar{x}\\ direito)^{2}}\\direito) \\sigma^{2}}\n",
        "\n",
        "Erro padrão do termo do coeficiente (b2): \n",
        "\n",
        "se\\left(b_{2}\\right)=\\sqrt{\\frac{\\sigma^{2}}{\\sum\\left(x_{i}-\\bar{x}\\right)}}\n",
        "\n",
        "Aqui, σ 2 é o erro padrão de regressão (SER) . E σ 2 é igual a RSS( Residual Sum Of Square ie ∑e i 2 ).\n",
        "\n",
        "  \n",
        "\n",
        "t – estatísticas: \n",
        "Em teoria, assumimos que o termo de erro segue a distribuição normal e por isso os parâmetros b 1   e  b 2 também possuem distribuições normais com variância calculada na seção acima.\n",
        "\n",
        " Aquilo é , \n",
        "\n",
        "b 1  ∼ N(B 1 , σ b1 2 )\n",
        "b 2    ∼ N(B 2 , σ b2 2 )\n",
        "Aqui B 1 e B 2  são meios verdadeiros de b1 e b2.\n",
        "\n",
        "t – as estatísticas são calculadas assumindo a seguinte hipótese – \n",
        "\n",
        "H 0  : B 2  = 0 (variável X não tem influência em Y)\n",
        "H a  : B 2  ≠ 0 (X tem impacto significativo em Y)\n",
        "Cálculos para t - estatísticas:          \n",
        "\n",
        "                     t = (b 1 – B 1 ) / se (b 1 )\n",
        "\n",
        " Da tabela de resumo , b 1 = -3,2002 e se(b 1 ) = 0,257, Então,\n",
        "\n",
        "                   t = (-3,2002 – 0) / 0,257 = -12,458\n",
        "\n",
        "Da mesma forma, b 2 = 0,7529 , se(b 2 ) = 0,044\n",
        "\n",
        "                   t = (0,7529 – 0) / 0,044 = 17,296\n",
        "\n",
        "p – valores: \n",
        "Em teoria, lemos que o valor p é a probabilidade de obter a estatística t pelo menos tão contraditória a H 0  calculada a partir da suposição de que a hipótese nula é verdadeira. Na tabela de resumo, podemos ver que o valor P para ambos os parâmetros é igual a 0. Isso não é exatamente 0, mas como temos estatísticas muito maiores (-12,458 e 17,296), o valor p será aproximadamente 0.\n",
        "\n",
        "Se você conhece os níveis de significância, pode ver que podemos rejeitar a hipótese nula em quase todos os níveis de significância.\n",
        "\n",
        "Intervalos de confiança:\n",
        "Existem muitas abordagens para testar a hipótese, incluindo a abordagem do valor-p mencionada acima. A abordagem do intervalo de confiança é uma delas. 5% é o nível de significância padrão (∝) no qual os C.Is são feitos. \n",
        "\n",
        "CI para B 1 é ( b 1 – t ∝/2 se(b 1 ), b 1 + t ∝/2 se(b 1 ) )\n",
        "\n",
        "Como ∝ = 5%, b 1 = -3,2002, se(b 1 ) = 0,257 , da tabela t , t 0,025,148 = 1,655,\n",
        "\n",
        "Depois de colocar os valores, o CI para B 1 é de aprox. (-3,708, -2,693). O mesmo pode ser feito para b 2 também.\n",
        "\n",
        "Ao calcular os valores de p, rejeitamos a hipótese nula, podemos ver o mesmo em CI também. Como 0 não está em nenhum dos intervalos, rejeitaremos a hipótese nula. \n",
        "\n",
        "\n",
        "\n",
        " R – valor ao quadrado: \n",
        "R 2 é o coeficiente de determinação que nos diz quanto de variação percentual da variável independente pode ser explicada pela variável independente. Aqui, a variação de 66,9% em Y pode ser explicada por X. O valor máximo possível de R 2   pode ser 1, significa que quanto maior o valor de R 2  melhor a regressão.\n",
        "\n",
        "F – estatística: \n",
        "O teste F informa a qualidade do ajuste de uma regressão. O teste é semelhante ao teste t ou outros testes que fazemos para a hipótese. A estatística F - é calculada como abaixo -                    \n",
        "\n",
        "F=\\frac{R^{2} /(k-1)}{\\left(1-R^{2}\\right) /(nk)}\n",
        "\n",
        "Inserindo os valores de R 2 , nek, F = (0,669/1) / (0,331/148) = 229,12.\n",
        "\n",
        "Você pode calcular a probabilidade de F > 229,1 para 1 e 148 df, que chega a aprox. 0. A partir disso, rejeitamos novamente a hipótese nula declarada acima. \n",
        "\n",
        "Os demais termos não são usados ​​com frequência. Termos como Skewness e Kurtosis falam sobre a distribuição de dados. A assimetria e a curtose para a distribuição normal são 0 e 3, respectivamente. O teste Jarque-Bera é usado para verificar se um erro tem distribuição normal ou não.  "
      ],
      "metadata": {
        "id": "q7PWQY7MIf6y"
      }
    },
    {
      "cell_type": "code",
      "execution_count": null,
      "metadata": {
        "id": "aA7Y9KGBBk-v",
        "colab": {
          "base_uri": "https://localhost:8080/",
          "height": 444
        },
        "outputId": "fbae1c0f-23af-429c-baaa-ad31032cc6a2"
      },
      "outputs": [
        {
          "output_type": "execute_result",
          "data": {
            "text/plain": [
              "<class 'statsmodels.iolib.summary.Summary'>\n",
              "\"\"\"\n",
              "                            OLS Regression Results                            \n",
              "==============================================================================\n",
              "Dep. Variable:                  ativo   R-squared:                       0.243\n",
              "Model:                            OLS   Adj. R-squared:                  0.241\n",
              "Method:                 Least Squares   F-statistic:                     112.9\n",
              "Date:                Tue, 07 Feb 2023   Prob (F-statistic):           4.77e-23\n",
              "Time:                        16:01:35   Log-Likelihood:                 866.65\n",
              "No. Observations:                 353   AIC:                            -1729.\n",
              "Df Residuals:                     351   BIC:                            -1722.\n",
              "Df Model:                           1                                         \n",
              "Covariance Type:            nonrobust                                         \n",
              "==============================================================================\n",
              "                 coef    std err          t      P>|t|      [0.025      0.975]\n",
              "------------------------------------------------------------------------------\n",
              "const          0.0006      0.001      0.568      0.570      -0.002       0.003\n",
              "ibov           0.8704      0.082     10.625      0.000       0.709       1.032\n",
              "==============================================================================\n",
              "Omnibus:                       18.244   Durbin-Watson:                   1.989\n",
              "Prob(Omnibus):                  0.000   Jarque-Bera (JB):               32.149\n",
              "Skew:                           0.317   Prob(JB):                     1.04e-07\n",
              "Kurtosis:                       4.336   Cond. No.                         73.9\n",
              "==============================================================================\n",
              "\n",
              "Notes:\n",
              "[1] Standard Errors assume that the covariance matrix of the errors is correctly specified.\n",
              "\"\"\""
            ],
            "text/html": [
              "<table class=\"simpletable\">\n",
              "<caption>OLS Regression Results</caption>\n",
              "<tr>\n",
              "  <th>Dep. Variable:</th>          <td>ativo</td>      <th>  R-squared:         </th> <td>   0.243</td>\n",
              "</tr>\n",
              "<tr>\n",
              "  <th>Model:</th>                   <td>OLS</td>       <th>  Adj. R-squared:    </th> <td>   0.241</td>\n",
              "</tr>\n",
              "<tr>\n",
              "  <th>Method:</th>             <td>Least Squares</td>  <th>  F-statistic:       </th> <td>   112.9</td>\n",
              "</tr>\n",
              "<tr>\n",
              "  <th>Date:</th>             <td>Tue, 07 Feb 2023</td> <th>  Prob (F-statistic):</th> <td>4.77e-23</td>\n",
              "</tr>\n",
              "<tr>\n",
              "  <th>Time:</th>                 <td>16:01:35</td>     <th>  Log-Likelihood:    </th> <td>  866.65</td>\n",
              "</tr>\n",
              "<tr>\n",
              "  <th>No. Observations:</th>      <td>   353</td>      <th>  AIC:               </th> <td>  -1729.</td>\n",
              "</tr>\n",
              "<tr>\n",
              "  <th>Df Residuals:</th>          <td>   351</td>      <th>  BIC:               </th> <td>  -1722.</td>\n",
              "</tr>\n",
              "<tr>\n",
              "  <th>Df Model:</th>              <td>     1</td>      <th>                     </th>     <td> </td>   \n",
              "</tr>\n",
              "<tr>\n",
              "  <th>Covariance Type:</th>      <td>nonrobust</td>    <th>                     </th>     <td> </td>   \n",
              "</tr>\n",
              "</table>\n",
              "<table class=\"simpletable\">\n",
              "<tr>\n",
              "    <td></td>       <th>coef</th>     <th>std err</th>      <th>t</th>      <th>P>|t|</th>  <th>[0.025</th>    <th>0.975]</th>  \n",
              "</tr>\n",
              "<tr>\n",
              "  <th>const</th> <td>    0.0006</td> <td>    0.001</td> <td>    0.568</td> <td> 0.570</td> <td>   -0.002</td> <td>    0.003</td>\n",
              "</tr>\n",
              "<tr>\n",
              "  <th>ibov</th>  <td>    0.8704</td> <td>    0.082</td> <td>   10.625</td> <td> 0.000</td> <td>    0.709</td> <td>    1.032</td>\n",
              "</tr>\n",
              "</table>\n",
              "<table class=\"simpletable\">\n",
              "<tr>\n",
              "  <th>Omnibus:</th>       <td>18.244</td> <th>  Durbin-Watson:     </th> <td>   1.989</td>\n",
              "</tr>\n",
              "<tr>\n",
              "  <th>Prob(Omnibus):</th> <td> 0.000</td> <th>  Jarque-Bera (JB):  </th> <td>  32.149</td>\n",
              "</tr>\n",
              "<tr>\n",
              "  <th>Skew:</th>          <td> 0.317</td> <th>  Prob(JB):          </th> <td>1.04e-07</td>\n",
              "</tr>\n",
              "<tr>\n",
              "  <th>Kurtosis:</th>      <td> 4.336</td> <th>  Cond. No.          </th> <td>    73.9</td>\n",
              "</tr>\n",
              "</table><br/><br/>Notes:<br/>[1] Standard Errors assume that the covariance matrix of the errors is correctly specified."
            ]
          },
          "metadata": {},
          "execution_count": 156
        }
      ],
      "source": [
        "results.summary()"
      ]
    },
    {
      "cell_type": "code",
      "execution_count": null,
      "metadata": {
        "id": "vqSGOYsqBk-v",
        "colab": {
          "base_uri": "https://localhost:8080/"
        },
        "outputId": "4a594422-cc49-4cef-bb90-344e46e419c2"
      },
      "outputs": [
        {
          "output_type": "execute_result",
          "data": {
            "text/plain": [
              "0.8704319483265084"
            ]
          },
          "metadata": {},
          "execution_count": 157
        }
      ],
      "source": [
        "# Regressão em janela móvel\n",
        "# Para isso, usaremos a fórmula de beta (covariancia sobre variancia)\n",
        "\n",
        "def calc_beta(df):\n",
        "    np_array = df.values\n",
        "    m = np_array[:,0]\n",
        "    s = np_array[:,1]\n",
        "\n",
        "    covariance = np.cov(s,m)\n",
        "    beta = covariance[0,1]/covariance[1,1]\n",
        "    return beta\n",
        "\n",
        "\n",
        "# Cálculo para período total bate com o da regressão do statsmodels\n",
        "calc_beta(df)"
      ]
    },
    {
      "cell_type": "code",
      "execution_count": null,
      "metadata": {
        "id": "xAS4scrNBk-w"
      },
      "outputs": [],
      "source": [
        "# Janela que percorre o dataframe\n",
        "\n",
        "def rolling_apply(df, period, func, min_periods=None):\n",
        "    if min_periods is None:\n",
        "        min_periods = period\n",
        "    result = pd.Series(np.nan, index=df.index)\n",
        "\n",
        "    for i in range(1, len(df)+1):\n",
        "        sub_df = df.iloc[max(i-period, 0):i,:] \n",
        "        if len(sub_df) >= min_periods:\n",
        "            idx = sub_df.index[-1]\n",
        "            result[idx] = func(sub_df)\n",
        "    return result\n",
        "\n",
        "\n",
        "\n",
        "\n",
        "df['beta'] = np.nan\n",
        "period = 252\n",
        "beta = rolling_apply(df[['ibov','ativo']], period, calc_beta, min_periods = period)  \n",
        "beta.name = 'beta'\n",
        "df.update(beta)"
      ]
    },
    {
      "cell_type": "code",
      "source": [
        "dataset = ativo\n",
        "dataset"
      ],
      "metadata": {
        "id": "XJ-RXdCJvCw6",
        "colab": {
          "base_uri": "https://localhost:8080/",
          "height": 455
        },
        "outputId": "f716d61a-d4aa-4a40-9473-ce1b4cf5cb44"
      },
      "execution_count": null,
      "outputs": [
        {
          "output_type": "execute_result",
          "data": {
            "text/plain": [
              "                           Open  High   Low  Close  Adj Close    Volume   var\n",
              "Date                                                                         \n",
              "2021-09-09 00:00:00-03:00 95.16 95.72 93.17  94.70      78.28  28997700 -0.00\n",
              "2021-09-10 00:00:00-03:00 95.51 96.19 94.81  94.81      78.37  18022000  0.00\n",
              "2021-09-13 00:00:00-03:00 94.70 95.00 93.94  94.76      78.32  18832800 -0.00\n",
              "2021-09-14 00:00:00-03:00 95.15 95.58 93.07  94.09      77.77  25571600 -0.01\n",
              "2021-09-15 00:00:00-03:00 93.88 94.44 91.74  91.74      75.83  35084400 -0.02\n",
              "...                         ...   ...   ...    ...        ...       ...   ...\n",
              "2023-01-31 00:00:00-03:00 94.31 94.88 93.85  94.51      94.51  20658600 -0.00\n",
              "2023-02-01 00:00:00-03:00 95.20 95.20 91.59  93.46      93.46  28818100 -0.01\n",
              "2023-02-02 00:00:00-03:00 91.69 91.96 88.86  89.14      89.14  37844400 -0.05\n",
              "2023-02-03 00:00:00-03:00 89.76 90.77 88.69  88.95      88.95  22545600 -0.00\n",
              "2023-02-06 00:00:00-03:00 88.20 88.25 86.66  87.84      87.84  17888700 -0.01\n",
              "\n",
              "[353 rows x 7 columns]"
            ],
            "text/html": [
              "\n",
              "  <div id=\"df-a0daa7f2-c7b6-4b02-b018-b64ec3493159\">\n",
              "    <div class=\"colab-df-container\">\n",
              "      <div>\n",
              "<style scoped>\n",
              "    .dataframe tbody tr th:only-of-type {\n",
              "        vertical-align: middle;\n",
              "    }\n",
              "\n",
              "    .dataframe tbody tr th {\n",
              "        vertical-align: top;\n",
              "    }\n",
              "\n",
              "    .dataframe thead th {\n",
              "        text-align: right;\n",
              "    }\n",
              "</style>\n",
              "<table border=\"1\" class=\"dataframe\">\n",
              "  <thead>\n",
              "    <tr style=\"text-align: right;\">\n",
              "      <th></th>\n",
              "      <th>Open</th>\n",
              "      <th>High</th>\n",
              "      <th>Low</th>\n",
              "      <th>Close</th>\n",
              "      <th>Adj Close</th>\n",
              "      <th>Volume</th>\n",
              "      <th>var</th>\n",
              "    </tr>\n",
              "    <tr>\n",
              "      <th>Date</th>\n",
              "      <th></th>\n",
              "      <th></th>\n",
              "      <th></th>\n",
              "      <th></th>\n",
              "      <th></th>\n",
              "      <th></th>\n",
              "      <th></th>\n",
              "    </tr>\n",
              "  </thead>\n",
              "  <tbody>\n",
              "    <tr>\n",
              "      <th>2021-09-09 00:00:00-03:00</th>\n",
              "      <td>95.16</td>\n",
              "      <td>95.72</td>\n",
              "      <td>93.17</td>\n",
              "      <td>94.70</td>\n",
              "      <td>78.28</td>\n",
              "      <td>28997700</td>\n",
              "      <td>-0.00</td>\n",
              "    </tr>\n",
              "    <tr>\n",
              "      <th>2021-09-10 00:00:00-03:00</th>\n",
              "      <td>95.51</td>\n",
              "      <td>96.19</td>\n",
              "      <td>94.81</td>\n",
              "      <td>94.81</td>\n",
              "      <td>78.37</td>\n",
              "      <td>18022000</td>\n",
              "      <td>0.00</td>\n",
              "    </tr>\n",
              "    <tr>\n",
              "      <th>2021-09-13 00:00:00-03:00</th>\n",
              "      <td>94.70</td>\n",
              "      <td>95.00</td>\n",
              "      <td>93.94</td>\n",
              "      <td>94.76</td>\n",
              "      <td>78.32</td>\n",
              "      <td>18832800</td>\n",
              "      <td>-0.00</td>\n",
              "    </tr>\n",
              "    <tr>\n",
              "      <th>2021-09-14 00:00:00-03:00</th>\n",
              "      <td>95.15</td>\n",
              "      <td>95.58</td>\n",
              "      <td>93.07</td>\n",
              "      <td>94.09</td>\n",
              "      <td>77.77</td>\n",
              "      <td>25571600</td>\n",
              "      <td>-0.01</td>\n",
              "    </tr>\n",
              "    <tr>\n",
              "      <th>2021-09-15 00:00:00-03:00</th>\n",
              "      <td>93.88</td>\n",
              "      <td>94.44</td>\n",
              "      <td>91.74</td>\n",
              "      <td>91.74</td>\n",
              "      <td>75.83</td>\n",
              "      <td>35084400</td>\n",
              "      <td>-0.02</td>\n",
              "    </tr>\n",
              "    <tr>\n",
              "      <th>...</th>\n",
              "      <td>...</td>\n",
              "      <td>...</td>\n",
              "      <td>...</td>\n",
              "      <td>...</td>\n",
              "      <td>...</td>\n",
              "      <td>...</td>\n",
              "      <td>...</td>\n",
              "    </tr>\n",
              "    <tr>\n",
              "      <th>2023-01-31 00:00:00-03:00</th>\n",
              "      <td>94.31</td>\n",
              "      <td>94.88</td>\n",
              "      <td>93.85</td>\n",
              "      <td>94.51</td>\n",
              "      <td>94.51</td>\n",
              "      <td>20658600</td>\n",
              "      <td>-0.00</td>\n",
              "    </tr>\n",
              "    <tr>\n",
              "      <th>2023-02-01 00:00:00-03:00</th>\n",
              "      <td>95.20</td>\n",
              "      <td>95.20</td>\n",
              "      <td>91.59</td>\n",
              "      <td>93.46</td>\n",
              "      <td>93.46</td>\n",
              "      <td>28818100</td>\n",
              "      <td>-0.01</td>\n",
              "    </tr>\n",
              "    <tr>\n",
              "      <th>2023-02-02 00:00:00-03:00</th>\n",
              "      <td>91.69</td>\n",
              "      <td>91.96</td>\n",
              "      <td>88.86</td>\n",
              "      <td>89.14</td>\n",
              "      <td>89.14</td>\n",
              "      <td>37844400</td>\n",
              "      <td>-0.05</td>\n",
              "    </tr>\n",
              "    <tr>\n",
              "      <th>2023-02-03 00:00:00-03:00</th>\n",
              "      <td>89.76</td>\n",
              "      <td>90.77</td>\n",
              "      <td>88.69</td>\n",
              "      <td>88.95</td>\n",
              "      <td>88.95</td>\n",
              "      <td>22545600</td>\n",
              "      <td>-0.00</td>\n",
              "    </tr>\n",
              "    <tr>\n",
              "      <th>2023-02-06 00:00:00-03:00</th>\n",
              "      <td>88.20</td>\n",
              "      <td>88.25</td>\n",
              "      <td>86.66</td>\n",
              "      <td>87.84</td>\n",
              "      <td>87.84</td>\n",
              "      <td>17888700</td>\n",
              "      <td>-0.01</td>\n",
              "    </tr>\n",
              "  </tbody>\n",
              "</table>\n",
              "<p>353 rows × 7 columns</p>\n",
              "</div>\n",
              "      <button class=\"colab-df-convert\" onclick=\"convertToInteractive('df-a0daa7f2-c7b6-4b02-b018-b64ec3493159')\"\n",
              "              title=\"Convert this dataframe to an interactive table.\"\n",
              "              style=\"display:none;\">\n",
              "        \n",
              "  <svg xmlns=\"http://www.w3.org/2000/svg\" height=\"24px\"viewBox=\"0 0 24 24\"\n",
              "       width=\"24px\">\n",
              "    <path d=\"M0 0h24v24H0V0z\" fill=\"none\"/>\n",
              "    <path d=\"M18.56 5.44l.94 2.06.94-2.06 2.06-.94-2.06-.94-.94-2.06-.94 2.06-2.06.94zm-11 1L8.5 8.5l.94-2.06 2.06-.94-2.06-.94L8.5 2.5l-.94 2.06-2.06.94zm10 10l.94 2.06.94-2.06 2.06-.94-2.06-.94-.94-2.06-.94 2.06-2.06.94z\"/><path d=\"M17.41 7.96l-1.37-1.37c-.4-.4-.92-.59-1.43-.59-.52 0-1.04.2-1.43.59L10.3 9.45l-7.72 7.72c-.78.78-.78 2.05 0 2.83L4 21.41c.39.39.9.59 1.41.59.51 0 1.02-.2 1.41-.59l7.78-7.78 2.81-2.81c.8-.78.8-2.07 0-2.86zM5.41 20L4 18.59l7.72-7.72 1.47 1.35L5.41 20z\"/>\n",
              "  </svg>\n",
              "      </button>\n",
              "      \n",
              "  <style>\n",
              "    .colab-df-container {\n",
              "      display:flex;\n",
              "      flex-wrap:wrap;\n",
              "      gap: 12px;\n",
              "    }\n",
              "\n",
              "    .colab-df-convert {\n",
              "      background-color: #E8F0FE;\n",
              "      border: none;\n",
              "      border-radius: 50%;\n",
              "      cursor: pointer;\n",
              "      display: none;\n",
              "      fill: #1967D2;\n",
              "      height: 32px;\n",
              "      padding: 0 0 0 0;\n",
              "      width: 32px;\n",
              "    }\n",
              "\n",
              "    .colab-df-convert:hover {\n",
              "      background-color: #E2EBFA;\n",
              "      box-shadow: 0px 1px 2px rgba(60, 64, 67, 0.3), 0px 1px 3px 1px rgba(60, 64, 67, 0.15);\n",
              "      fill: #174EA6;\n",
              "    }\n",
              "\n",
              "    [theme=dark] .colab-df-convert {\n",
              "      background-color: #3B4455;\n",
              "      fill: #D2E3FC;\n",
              "    }\n",
              "\n",
              "    [theme=dark] .colab-df-convert:hover {\n",
              "      background-color: #434B5C;\n",
              "      box-shadow: 0px 1px 3px 1px rgba(0, 0, 0, 0.15);\n",
              "      filter: drop-shadow(0px 1px 2px rgba(0, 0, 0, 0.3));\n",
              "      fill: #FFFFFF;\n",
              "    }\n",
              "  </style>\n",
              "\n",
              "      <script>\n",
              "        const buttonEl =\n",
              "          document.querySelector('#df-a0daa7f2-c7b6-4b02-b018-b64ec3493159 button.colab-df-convert');\n",
              "        buttonEl.style.display =\n",
              "          google.colab.kernel.accessAllowed ? 'block' : 'none';\n",
              "\n",
              "        async function convertToInteractive(key) {\n",
              "          const element = document.querySelector('#df-a0daa7f2-c7b6-4b02-b018-b64ec3493159');\n",
              "          const dataTable =\n",
              "            await google.colab.kernel.invokeFunction('convertToInteractive',\n",
              "                                                     [key], {});\n",
              "          if (!dataTable) return;\n",
              "\n",
              "          const docLinkHtml = 'Like what you see? Visit the ' +\n",
              "            '<a target=\"_blank\" href=https://colab.research.google.com/notebooks/data_table.ipynb>data table notebook</a>'\n",
              "            + ' to learn more about interactive tables.';\n",
              "          element.innerHTML = '';\n",
              "          dataTable['output_type'] = 'display_data';\n",
              "          await google.colab.output.renderOutput(dataTable, element);\n",
              "          const docLink = document.createElement('div');\n",
              "          docLink.innerHTML = docLinkHtml;\n",
              "          element.appendChild(docLink);\n",
              "        }\n",
              "      </script>\n",
              "    </div>\n",
              "  </div>\n",
              "  "
            ]
          },
          "metadata": {},
          "execution_count": 159
        }
      ]
    },
    {
      "cell_type": "code",
      "source": [
        "# Separa Valores lidos, e valor a ser previsto\n",
        "atributos = ['Open', 'High', 'Low', 'Volume']\n",
        "# Variável a ser prevista\n",
        "atrib_prev = ['Adj Close']\n",
        "# Criando objetos\n",
        "x = dataset[atributos].values\n",
        "y = dataset[atrib_prev].values\n",
        "\n",
        "# Divide 75% dos dados aleatoriamente para treino e o restante para teste.\n",
        "X_treino, X_teste, y_treino, y_teste = train_test_split(x, y, random_state=42)\n",
        "\n",
        "##Treinamento da máquina\n",
        "# Modelo de regressão linear\n",
        "modelo = LinearRegression()\n",
        "# Treina o modelo\n",
        "modelo.fit(X_treino, y_treino)\n",
        "\n",
        "\n",
        "# Predizer 21 resultados\n",
        "\n",
        "predicao = (modelo.predict(X_teste[:21]))\n",
        "\n",
        "\n",
        "\n",
        "\n",
        "#print(modelo.predict(X_teste[:21]))\n",
        "\n",
        "print(predicao)\n",
        "\n",
        "mediapredicao = sum(predicao) / len(predicao)\n",
        "\n",
        "\n",
        "#print(\"A média é =\",sum(predicao) / len(predicao));\n",
        "\n",
        "print(\"A média é =\", mediapredicao);\n",
        "\n",
        "\n",
        "# Validando o modelo\n",
        "# usando mean_squared_error\n",
        "RMSE = mean_squared_error(y_teste, modelo.predict(X_teste))**0.5\n",
        "print(\"Média de erro {0}\".format(RMSE))\n",
        "\n",
        "pontoentrada = mediapredicao - (RMSE*1)\n",
        "\n",
        "stop = (RMSE / mediapredicao)* 100\n",
        "\n",
        "gainparcial = mediapredicao -  RMSE\n",
        "\n",
        "#Media - Erro  =  Entrada\n",
        "print(\"O ponto de entrada é comprar abaixo de: \", pontoentrada)\n",
        "print(\"O percentual de stop é de (%) : \", stop)\n",
        "print(\"O percentual de Gain é de (%) : \", 2 * stop)\n",
        "\n",
        "print(\"O objetivo da operação é: \", gainparcial*1.5)"
      ],
      "metadata": {
        "id": "ksX7bGjsvSjj",
        "colab": {
          "base_uri": "https://localhost:8080/"
        },
        "outputId": "0ddf5bc2-2a7f-4a44-d347-36e4dbb030cc"
      },
      "execution_count": null,
      "outputs": [
        {
          "output_type": "stream",
          "name": "stdout",
          "text": [
            "[[66.99638658]\n",
            " [63.50593075]\n",
            " [65.18423949]\n",
            " [72.81011181]\n",
            " [67.41911465]\n",
            " [80.8552941 ]\n",
            " [73.0901434 ]\n",
            " [69.09859336]\n",
            " [91.65705426]\n",
            " [86.63655325]\n",
            " [79.62902363]\n",
            " [81.72210129]\n",
            " [83.71295911]\n",
            " [68.83246462]\n",
            " [85.78135823]\n",
            " [79.25430723]\n",
            " [73.21829152]\n",
            " [89.13980769]\n",
            " [90.74916185]\n",
            " [70.23805147]\n",
            " [88.5757557 ]]\n",
            "A média é = [77.52889067]\n",
            "Média de erro 3.8680246205048165\n",
            "O ponto de entrada é comprar abaixo de:  [73.66086605]\n",
            "O percentual de stop é de (%) :  [4.98913964]\n",
            "O percentual de Gain é de (%) :  [9.97827929]\n",
            "O objetivo da operação é:  [110.49129907]\n"
          ]
        }
      ]
    },
    {
      "cell_type": "code",
      "source": [
        "#Grafico de 21 Pregões com as predições\n",
        "#Testar entrada abaixo da mínima da média do período Linha Verde\n",
        "\n",
        "\n",
        "\n",
        "\n",
        "plt.figure(figsize=(20,10))\n",
        "\n",
        "plt.axhline(y = pontoentrada, color = 'g', linestyle = '--', label = 'Média') \n",
        "\n",
        "\n",
        "plt.plot(predicao, color = 'orange',  label ='Valores')\n",
        "# plt.plot(x, label ='Pregões')\n",
        "\n",
        "plt.legend()\n",
        "\n",
        "\n",
        "plt.plot(predicao)"
      ],
      "metadata": {
        "id": "0kMatN4gKVnN",
        "colab": {
          "base_uri": "https://localhost:8080/",
          "height": 613
        },
        "outputId": "be4ae3c2-e02b-4502-87d0-e2b2acab4977"
      },
      "execution_count": null,
      "outputs": [
        {
          "output_type": "execute_result",
          "data": {
            "text/plain": [
              "[<matplotlib.lines.Line2D at 0x7f2e44cac160>]"
            ]
          },
          "metadata": {},
          "execution_count": 161
        },
        {
          "output_type": "display_data",
          "data": {
            "text/plain": [
              "<Figure size 1440x720 with 1 Axes>"
            ],
            "image/png": "[encoded data removed]"
          },
          "metadata": {
            "needs_background": "light"
          }
        }
      ]
    }
  ],
  "metadata": {
    "kernelspec": {
      "display_name": "Python 3 (ipykernel)",
      "language": "python",
      "name": "python3"
    },
    "language_info": {
      "codemirror_mode": {
        "name": "ipython",
        "version": 3
      },
      "file_extension": ".py",
      "mimetype": "text/x-python",
      "name": "python",
      "nbconvert_exporter": "python",
      "pygments_lexer": "ipython3",
      "version": "3.9.12"
    },
    "colab": {
      "provenance": [],
      "include_colab_link": true
    }
  },
  "nbformat": 4,
  "nbformat_minor": 0
}